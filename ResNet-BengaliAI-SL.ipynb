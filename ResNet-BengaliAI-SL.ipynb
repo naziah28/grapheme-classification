{
 "cells": [
  {
   "cell_type": "code",
   "execution_count": 1,
   "metadata": {},
   "outputs": [],
   "source": [
    "from __future__ import unicode_literals\n",
    "import numpy as np\n",
    "import matplotlib \n",
    "import matplotlib.pyplot as plt\n",
    "import matplotlib.font_manager as fm\n",
    "from helper_funcs import * \n",
    "from torchvision.models import *\n",
    "from torchvision.models.resnet import BasicBlock\n",
    "\n",
    "import pandas as pd\n",
    "import numpy as np\n",
    "\n",
    "import torch\n",
    "import torch.nn as nn\n",
    "import torch.optim as optim\n",
    "from torch.optim import lr_scheduler\n",
    "from torch.utils.data import DataLoader, Dataset\n",
    "from torchvision import transforms, models\n",
    "\n",
    "from torchvision.utils import make_grid\n",
    "import matplotlib.pyplot as plt\n",
    "%matplotlib inline\n",
    "\n",
    "import torchvision\n",
    "import torchvision.transforms as transforms\n",
    "from torch.autograd import Variable\n",
    "import torch.optim as optim\n",
    "\n",
    "from numpy import linalg as LA\n",
    "\n",
    "import tensorboardX\n",
    "\n",
    "batch_size=128\n",
    "random_state = 42 \n",
    "learning_rate = 1e-3\n",
    "\n",
    "\n",
    "# https://www.kaggle.com/tonysun94/pytorch-1-0-1-on-mnist-acc-99-8"
   ]
  },
  {
   "cell_type": "code",
   "execution_count": 2,
   "metadata": {},
   "outputs": [
    {
     "name": "stdout",
     "output_type": "stream",
     "text": [
      "cuda:0\n"
     ]
    }
   ],
   "source": [
    "device = torch.device(\"cuda:0\" if torch.cuda.is_available() else \"cpu\")\n",
    "print(device)\n",
    "\n",
    "tb_writer = tensorboardX.SummaryWriter('storage/resnet-sl-v2')\n"
   ]
  },
  {
   "cell_type": "code",
   "execution_count": 3,
   "metadata": {},
   "outputs": [],
   "source": [
    "df = pd.read_csv(\"data/label-mappings.csv\")"
   ]
  },
  {
   "cell_type": "code",
   "execution_count": 4,
   "metadata": {},
   "outputs": [],
   "source": [
    "def get_accuracy(testloader, net, batch=False):\n",
    "    correct = 0\n",
    "    total = 0\n",
    "    with torch.no_grad():\n",
    "        for data in testloader:\n",
    "            images, labels, _ = data\n",
    "            outputs = net(images.to(device))\n",
    "            _, predicted = torch.max(outputs.data, 1)\n",
    "            total += labels.size(0)\n",
    "            correct += (predicted == labels.to(device)).sum().item()\n",
    "            \n",
    "            gt = 0 \n",
    "            vt = 0 \n",
    "            ct = 0 \n",
    "            \n",
    "            if batch: \n",
    "                overall = 100 * correct / total\n",
    "                \n",
    "                for (pred, label) in zip(predicted, labels):                    \n",
    "                    l = label.item()\n",
    "                    p = pred.item()\n",
    "                    g, v, c = df[df.label == l].grapheme_root.values[0], \\\n",
    "                        df[df.label == l].vowel_diacritic.values[0], \\\n",
    "                        df[df.label == l].consonant_diacritic.values[0]\n",
    "                    \n",
    "                    pg, pv, pc = df[df.label == p].grapheme_root.values[0], \\\n",
    "                        df[df.label == p].vowel_diacritic.values[0], \\\n",
    "                        df[df.label == p].consonant_diacritic.values[0]   \n",
    "                    \n",
    "                    if g == pg: \n",
    "                        gt += 1 \n",
    "                    if v == pv: \n",
    "                        vt += 1\n",
    "                    if c == pc: \n",
    "                        ct+=1 \n",
    "                g_acc = 100*gt/batch_size\n",
    "                v_acc = 100*vt/batch_size\n",
    "                c_acc = 100*ct/batch_size\n",
    "                overall = (g_acc*2 + v_acc + c_acc) /4 \n",
    "                \n",
    "                return g_acc, v_acc, c_acc, overall\n",
    "                \n",
    "    overall = 100 * correct / total\n",
    "    \n",
    "    return overall"
   ]
  },
  {
   "cell_type": "code",
   "execution_count": 5,
   "metadata": {},
   "outputs": [],
   "source": [
    "def show_errors(testloader, net, n=10):\n",
    "    count = 0\n",
    "    ims = []\n",
    "    preds = []\n",
    "    actual = []\n",
    "    with torch.no_grad():\n",
    "        for data in testloader:\n",
    "            images, labels, _ = data\n",
    "            outputs = net(images.to(device))\n",
    "            _, predicted = torch.max(outputs.data, 1)            \n",
    "            \n",
    "            for (im, pred, label) in zip(images, predicted, labels):\n",
    "                if pred.numpy() != label.numpy():\n",
    "                    count += 1\n",
    "                    ims.append(im.numpy())\n",
    "                    preds.append(pred)\n",
    "                    actual.append(label)\n",
    "                    \n",
    "                if count >= n: \n",
    "                    return ims, preds, actual \n",
    "                \n",
    "    plot_gallery2(ims, preds, 2, 5)"
   ]
  },
  {
   "cell_type": "code",
   "execution_count": 6,
   "metadata": {},
   "outputs": [],
   "source": [
    "transform=transforms.Compose([\n",
    "    transforms.Resize(28),\n",
    "    transforms.ToTensor(),\n",
    "])\n",
    "\n",
    "trainset = BengaliDataset(\"data/train.csv\",\"data/trainsplit\", transform)\n",
    "testset = BengaliDataset(\"data/test.csv\",\"data/testsplit\", transform)\n",
    "\n",
    "trainloader = torch.utils.data.DataLoader(trainset, batch_size=batch_size,\n",
    "                                         shuffle=True, num_workers=0)\n",
    "testloader = torch.utils.data.DataLoader(testset, batch_size=batch_size,\n",
    "                                         shuffle=True, num_workers=0)\n",
    "\n",
    "df = pd.read_csv(\"data/train.csv\")\n",
    "classes = list(range(df.label.max()+1))\n",
    "n_classes = len(classes)"
   ]
  },
  {
   "cell_type": "code",
   "execution_count": 7,
   "metadata": {},
   "outputs": [],
   "source": [
    "images, labels,t = next(iter(trainloader))\n",
    "# images, labels,t = next(iter(testloader))"
   ]
  },
  {
   "cell_type": "code",
   "execution_count": 8,
   "metadata": {},
   "outputs": [
    {
     "data": {
      "image/png": "[encoded data removed]",
      "text/plain": [
       "<Figure size 518.4x172.8 with 4 Axes>"
      ]
     },
     "metadata": {},
     "output_type": "display_data"
    }
   ],
   "source": [
    "# show images\n",
    "plot_gallery2(images,labels,1,4)"
   ]
  },
  {
   "cell_type": "code",
   "execution_count": 9,
   "metadata": {},
   "outputs": [
    {
     "data": {
      "text/plain": [
       "1292"
      ]
     },
     "execution_count": 9,
     "metadata": {},
     "output_type": "execute_result"
    }
   ],
   "source": [
    "df.label.max()+1"
   ]
  },
  {
   "cell_type": "code",
   "execution_count": 10,
   "metadata": {},
   "outputs": [],
   "source": [
    "import torch.nn as nn\n",
    "import torch.nn.functional as F\n",
    "from torchvision.models.resnet import ResNet, BasicBlock, Bottleneck\n",
    "\n",
    "\n",
    "class MNISTResNet(ResNet):\n",
    "    def __init__(self):\n",
    "        super(MNISTResNet, self).__init__(BasicBlock, [2, 2, 2, 2], num_classes=n_classes) # Based on ResNet18\n",
    "        self.conv1 = nn.Conv2d(1, 64, kernel_size=7, stride=1, padding=3,bias=False)\n",
    "\n",
    "model = MNISTResNet()\n",
    "# print(model)"
   ]
  },
  {
   "cell_type": "code",
   "execution_count": 11,
   "metadata": {},
   "outputs": [],
   "source": [
    "def train(train_loader, model, criterion, optimizer, epoch):\n",
    "    model.train()\n",
    "\n",
    "    for batch_idx, (data, target, _) in enumerate(train_loader):\n",
    "        # if GPU available, move data and target to GPU\n",
    "        if torch.cuda.is_available():\n",
    "            data = data.cuda()\n",
    "            target = target.cuda()\n",
    "        \n",
    "        # compute output and loss\n",
    "        output = model(data)\n",
    "        loss = criterion(output, target)\n",
    "        \n",
    "        # TODO:\n",
    "        # 1. add batch metric (acc1, acc5)\n",
    "        # 2. add average metric top1=sum(acc1)/batch_idx, top5 = sum(acc5)/batch_idx\n",
    "        \n",
    "        # backward and update model\n",
    "        optimizer.zero_grad()\n",
    "        loss.backward()\n",
    "        optimizer.step()\n",
    "        \n",
    "        if (batch_idx + 1)% 100 == 0:\n",
    "            step = (epoch*100) + batch_idx \n",
    "            print('Train Epoch: {} [{}/{} ({:.0f}%)]\\tLoss: {:.6f}'.format(\n",
    "                epoch, (batch_idx + 1) * len(data), len(train_loader.dataset),\n",
    "                100. * (batch_idx + 1) / len(train_loader), loss.data.item()))\n",
    "            \n",
    "    acc_g, acc_v, acc_c, overall = get_accuracy(testloader, model, batch=True)\n",
    "    tb_writer.add_scalar(\"loss\", loss, step)\n",
    "\n",
    "    tb_writer.add_scalar(\"grapheme-root-accuracy\", acc_g, step)\n",
    "    tb_writer.add_scalar(\"vowel-diatric-accuracy\", acc_v, step)\n",
    "    tb_writer.add_scalar(\"consonant_diatric-accuracy\", acc_c, step)\n",
    "    tb_writer.add_scalar(\"accuracy\", overall, step)\n",
    "\n",
    "\n",
    "    print('[%d, %5d] loss: %.3f \\t test accuracy: %.3f' % (epoch + 1, step, loss, overall))\n",
    "\n",
    "            "
   ]
  },
  {
   "cell_type": "code",
   "execution_count": 12,
   "metadata": {},
   "outputs": [],
   "source": [
    "def validate(val_loader, model, criterion):\n",
    "    model.eval()\n",
    "    loss = 0\n",
    "    correct = 0\n",
    "    \n",
    "    for _, (data, target, _) in enumerate(val_loader):\n",
    "        if torch.cuda.is_available():\n",
    "            data = data.cuda()\n",
    "            target = target.cuda()\n",
    "        \n",
    "        output = model(data)\n",
    "        \n",
    "        loss += criterion(output, target).data.item()\n",
    "\n",
    "        pred = output.data.max(1, keepdim=True)[1]\n",
    "        correct += pred.eq(target.data.view_as(pred)).cpu().sum()\n",
    "        \n",
    "    loss /= len(val_loader.dataset)\n",
    "        \n",
    "    print('\\nOn Val set Average loss: {:.4f}, Accuracy: {}/{} ({:.3f}%)\\n'.format(\n",
    "        loss, correct, len(val_loader.dataset),\n",
    "        100.0 * float(correct) / len(val_loader.dataset)))"
   ]
  },
  {
   "cell_type": "code",
   "execution_count": 13,
   "metadata": {},
   "outputs": [],
   "source": [
    "# example config, use the comments to get higher accuracy\n",
    "total_epoches = 20 # 50\n",
    "step_size = 5     # 10\n",
    "base_lr = 0.01    # 0.01\n",
    "\n",
    "optimizer = optim.Adam(model.parameters(), lr=base_lr)\n",
    "criterion = nn.CrossEntropyLoss()\n",
    "exp_lr_scheduler = lr_scheduler.StepLR(optimizer, step_size=step_size, gamma=0.1)\n",
    "\n",
    "if torch.cuda.is_available():\n",
    "    model = model.cuda()\n",
    "    criterion = criterion.cuda()"
   ]
  },
  {
   "cell_type": "code",
   "execution_count": null,
   "metadata": {},
   "outputs": [
    {
     "name": "stdout",
     "output_type": "stream",
     "text": [
      "Train Epoch: 0 [12800/134562 (10%)]\tLoss: 7.171162\n",
      "Train Epoch: 0 [25600/134562 (19%)]\tLoss: 7.123380\n"
     ]
    }
   ],
   "source": [
    "track_loss = []\n",
    "track_accuracy = []\n",
    "for epoch in range(total_epoches):\n",
    "    train(train_loader=trainloader, model=model, criterion=criterion, optimizer=optimizer, epoch=epoch)\n",
    "    validate(val_loader=testloader, model=model, criterion=criterion)\n",
    "    exp_lr_scheduler.step()"
   ]
  },
  {
   "cell_type": "code",
   "execution_count": null,
   "metadata": {},
   "outputs": [],
   "source": [
    "torch.save(model.state_dict(), \"resnet.pth\")"
   ]
  },
  {
   "cell_type": "code",
   "execution_count": null,
   "metadata": {},
   "outputs": [],
   "source": [
    "sample,labels,_ = next(iter(testloader))\n",
    "output = model(sample.to(device))\n",
    "pred = output.data.max(1, keepdim=True)[1].cpu()\n"
   ]
  },
  {
   "cell_type": "code",
   "execution_count": null,
   "metadata": {},
   "outputs": [],
   "source": [
    "from sklearn.metrics import plot_confusion_matrix\n",
    "import matplotlib.pyplot as plt \n",
    "from sklearn.metrics import (\n",
    "    confusion_matrix,\n",
    "    ConfusionMatrixDisplay\n",
    ")\n",
    "\n",
    "from pylab import rcParams\n",
    "rcParams['figure.figsize'] = 13, 13\n",
    "\n",
    "# plt.figure(figsize=(12,12))\n",
    "cn_matrix = confusion_matrix(\n",
    "    y_true=labels.numpy(),\n",
    "    y_pred=pred,\n",
    "    labels=list(range(1293)),\n",
    "    normalize=\"true\",\n",
    ")\n",
    "ConfusionMatrixDisplay(cn_matrix, list(range(1293))).plot(\n",
    "    include_values=False, xticks_rotation=\"vertical\"\n",
    ")\n",
    "plt.title(\"Colors\")\n",
    "\n",
    "plt.tight_layout()\n",
    "plt.show()\n"
   ]
  },
  {
   "cell_type": "code",
   "execution_count": null,
   "metadata": {},
   "outputs": [],
   "source": []
  },
  {
   "cell_type": "code",
   "execution_count": null,
   "metadata": {},
   "outputs": [],
   "source": []
  },
  {
   "cell_type": "code",
   "execution_count": null,
   "metadata": {},
   "outputs": [],
   "source": []
  }
 ],
 "metadata": {
  "kernelspec": {
   "display_name": "Python 3",
   "language": "python",
   "name": "python3"
  },
  "language_info": {
   "codemirror_mode": {
    "name": "ipython",
    "version": 3
   },
   "file_extension": ".py",
   "mimetype": "text/x-python",
   "name": "python",
   "nbconvert_exporter": "python",
   "pygments_lexer": "ipython3",
   "version": "3.7.6"
  }
 },
 "nbformat": 4,
 "nbformat_minor": 1
}
